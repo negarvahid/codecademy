{
  "nbformat": 4,
  "nbformat_minor": 0,
  "metadata": {
    "colab": {
      "provenance": []
    },
    "kernelspec": {
      "name": "python3",
      "display_name": "Python 3"
    },
    "language_info": {
      "name": "python"
    }
  },
  "cells": [
    {
      "cell_type": "markdown",
      "source": [
        "# The Foundation - Autoencoders | Codecademy\n",
        "\n",
        "By [Negar Vahid](https://www.linkedin.com/in/negar-vahid/)"
      ],
      "metadata": {
        "id": "LLnghFHaZ5JF"
      }
    },
    {
      "cell_type": "markdown",
      "source": [
        "[Slides](https://docs.google.com/presentation/d/1JwuwyZFfJ19bU7lxJm6BEI6jbI1Av9hVjFBB8EaJU_s/edit?usp=sharing)"
      ],
      "metadata": {
        "id": "3A1YH5ZQaDrJ"
      }
    },
    {
      "cell_type": "markdown",
      "source": [
        "Table of Content:\n",
        "\n",
        "- Simple Autoencoder\n",
        "- Sparse Autoencoder\n",
        "- Conclusion\n",
        "- What's Next?\n",
        "- Resources"
      ],
      "metadata": {
        "id": "ZMPI-Dr5aHox"
      }
    },
    {
      "cell_type": "markdown",
      "source": [
        "## Simple Autoencoder"
      ],
      "metadata": {
        "id": "y4R1Be-ncZoj"
      }
    },
    {
      "cell_type": "markdown",
      "source": [
        "Let's start with a Undercomplete(simple) Autoencoder"
      ],
      "metadata": {
        "id": "u3uffGTglSU8"
      }
    },
    {
      "cell_type": "markdown",
      "source": [
        "**Task: Reconstruct The MNIST Dataset** ⭐"
      ],
      "metadata": {
        "id": "sXsljO6Cl79a"
      }
    },
    {
      "cell_type": "markdown",
      "source": [
        "To do that, let's import the needed libraries.\n",
        "You're using PyTorch, and TorchVision.\n",
        "TorchVision is part of PyTorch's ecosystem for handling the image dataset and performing the necessary transformations"
      ],
      "metadata": {
        "id": "tKgr_DeBlcuN"
      }
    },
    {
      "cell_type": "code",
      "source": [
        "import torch\n",
        "import torch.nn as nn\n",
        "import torch.optim as optim\n",
        "from torchvision import datasets, transforms"
      ],
      "metadata": {
        "id": "Vbgnxkejf4BJ"
      },
      "execution_count": null,
      "outputs": []
    },
    {
      "cell_type": "markdown",
      "source": [
        "Time to define your model structure.\n",
        "In PyTorch, you define the structure of your model using classes.\n",
        "You're creating a class Autoencoder that inherits from `nn.Module`, which is the base class for all neural network modules in PyTorch.\n",
        "\n",
        "\n"
      ],
      "metadata": {
        "id": "zXX2aZzEmEvk"
      }
    },
    {
      "cell_type": "code",
      "source": [
        "# Define the Autoencoder model\n",
        "class Autoencoder(nn.Module):\n",
        "    def __init__(self, encoding_dim):\n",
        "        super(Autoencoder, self).__init__()\n",
        "        self.encoder = nn.Sequential(\n",
        "            nn.Linear(784, encoding_dim),\n",
        "            nn.ReLU()\n",
        "        )\n",
        "        self.decoder = nn.Sequential(\n",
        "            nn.Linear(encoding_dim, 784),\n",
        "            nn.Sigmoid()\n",
        "        )\n",
        "\n",
        "    def forward(self, x):\n",
        "        encoded = self.encoder(x)\n",
        "        decoded = self.decoder(encoded)\n",
        "        return decoded\n"
      ],
      "metadata": {
        "id": "8lrtY4ikf49m"
      },
      "execution_count": null,
      "outputs": []
    },
    {
      "cell_type": "markdown",
      "source": [
        "The `__init__ `method sets up the layers of the model.\n",
        "\n",
        "`encoding_dim` is the size of the encoded (compressed) representation."
      ],
      "metadata": {
        "id": "vXJUoMr6nKqg"
      }
    },
    {
      "cell_type": "markdown",
      "source": [
        "**Encoder**:\n",
        "\n",
        "`self.encoder` is a sequence of layers that compresses the input.\n",
        "\n",
        "`nn.Linear(784, encoding_dim)` creates a fully connected layer that transforms the input from 784 dimensions to `encoding_dim dimensions`.\n",
        "\n",
        "`nn.ReLU()` applies the ReLU activation function, which introduces **non-linearity** to the model.\n",
        "\n",
        "**Decoder**:\n",
        "`self.decoder` is a sequence of layers that reconstructs the input from the encoded representation.\n",
        "\n",
        "`nn.Linear(encoding_dim, 784)` creates a fully connected layer that transforms the encoded representation back to 784 dimensions (the original size).\n",
        "\n",
        "`nn.Sigmoid()` applies the Sigmoid activation function, **which squashes the output to be between 0 and 1, suitable for image data.**\n",
        "\n",
        "**Forward Pass:**\n",
        "\n",
        "The forward method defines how data passes through the model.\n",
        "\n",
        "`encoded = self.encoder(x)` passes the input x through the encoder to get the encoded representation.\n",
        "\n",
        "`decoded = self.decoder(encoded)` passes the encoded representation through the decoder to get the reconstructed output.\n",
        "\n",
        "return decoded returns the reconstructed output."
      ],
      "metadata": {
        "id": "eBfkkLiMnYzT"
      }
    },
    {
      "cell_type": "code",
      "source": [
        "# Hyperparameters\n",
        "encoding_dim = 32\n",
        "batch_size = 256\n",
        "num_epochs = 50\n",
        "learning_rate = 0.001"
      ],
      "metadata": {
        "id": "093bVchVf6e-"
      },
      "execution_count": null,
      "outputs": []
    },
    {
      "cell_type": "markdown",
      "source": [
        "`encoding_dim = 32`:\n",
        "\n",
        "This sets the size of the encoded (compressed) representation in the autoencoder.\n",
        "The input image (originally 784 dimensions) will be compressed to 32 dimensions.\n",
        "\n",
        "`batch_size = 256:`\n",
        "\n",
        "This sets the number of samples processed before the model's internal parameters are updated.\n",
        "Instead of updating the model for each individual image, we update it after processing 256 images at once.\n",
        "\n",
        "`num_epochs = 50:`\n",
        "\n",
        "This sets the number of times the entire training dataset will pass through the model.\n",
        "Training will repeat the dataset 50 times to learn the optimal weights.\n",
        "\n",
        "`learning_rate = 0.001:`\n",
        "\n",
        "This sets the rate at which the model updates its parameters in response to the computed error during training.\n",
        "\n",
        "> A smaller learning rate means smaller updates and more stable convergence, while a larger learning rate means faster updates but a risk of overshooting the optimal values.\n",
        "\n",
        "\n",
        "\n"
      ],
      "metadata": {
        "id": "bXDrV4WpohZE"
      }
    },
    {
      "cell_type": "code",
      "source": [
        "# Load MNIST dataset\n",
        "transform = transforms.Compose([transforms.ToTensor()])\n",
        "train_dataset = datasets.MNIST(root='./data', train=True, transform=transform, download=True)\n",
        "test_dataset = datasets.MNIST(root='./data', train=False, transform=transform, download=True)\n",
        "\n",
        "train_loader = torch.utils.data.DataLoader(dataset=train_dataset, batch_size=batch_size, shuffle=True)\n",
        "test_loader = torch.utils.data.DataLoader(dataset=test_dataset, batch_size=batch_size, shuffle=False)"
      ],
      "metadata": {
        "id": "GrrWFiPff-H4"
      },
      "execution_count": null,
      "outputs": []
    },
    {
      "cell_type": "markdown",
      "source": [
        "\n",
        " `transform = transforms.Compose([transforms.ToTensor()])`:\n",
        "  - This line creates a transformation that converts images to PyTorch tensors.\n",
        "  - `transforms.Compose` allows us to chain multiple transformations together.\n",
        "  - `transforms.ToTensor()` converts the image data from a PIL image or NumPy array to a tensor, normalizing the pixel values to the range [0, 1].\n"
      ],
      "metadata": {
        "id": "5yKC5d80pPKV"
      }
    },
    {
      "cell_type": "code",
      "source": [
        "# Model, Loss and Optimizer\n",
        "model = Autoencoder(encoding_dim)\n",
        "criterion = nn.BCELoss()\n",
        "optimizer = optim.Adam(model.parameters(), lr=learning_rate)"
      ],
      "metadata": {
        "id": "3wKrIsX2gANq"
      },
      "execution_count": null,
      "outputs": []
    },
    {
      "cell_type": "markdown",
      "source": [
        "`criterion = nn.BCELoss()` sets the loss function to Binary Cross-Entropy Loss.\n",
        "\n",
        "> `nn.BCELoss()` computes the difference between the predicted output and the actual output, treating the problem as a **binary classification task.**\n",
        "\n",
        "This loss function is suitable for outputs with values between 0 and 1, **which matches our use of the Sigmoid activation function in the decoder.**\n",
        "\n",
        "`optimizer = optim.Adam(model.parameters(), lr=learning_rate)` sets the optimizer to Adam (Adaptive Moment Estimation).\n",
        "\n",
        "> optim.Adam is an optimization algorithm that adjusts the learning rate for each parameter.\n",
        "\n",
        "`model.parameters()` provides the parameters of the model that need to be optimized.\n",
        "\n",
        "`lr=learning_rate` sets the learning rate (defined earlier as 0.001), which controls the step size during the optimization process."
      ],
      "metadata": {
        "id": "u4-qdKbsrBPp"
      }
    },
    {
      "cell_type": "code",
      "source": [
        "# Training the model\n",
        "for epoch in range(num_epochs):\n",
        "    for data in train_loader:\n",
        "        img, _ = data\n",
        "        img = img.view(img.size(0), -1)\n",
        "\n",
        "        # Forward pass\n",
        "        output = model(img)\n",
        "        loss = criterion(output, img)\n",
        "\n",
        "        # Backward pass\n",
        "        optimizer.zero_grad()\n",
        "        loss.backward()\n",
        "        optimizer.step()\n",
        "\n",
        "    print(f'Epoch [{epoch+1}/{num_epochs}], Loss: {loss.item():.4f}')"
      ],
      "metadata": {
        "colab": {
          "base_uri": "https://localhost:8080/"
        },
        "id": "OUQa2p5mgCvu",
        "outputId": "617edca7-00d8-44d8-e8aa-900f23e2d723"
      },
      "execution_count": null,
      "outputs": [
        {
          "output_type": "stream",
          "name": "stdout",
          "text": [
            "Epoch [1/50], Loss: 0.2210\n",
            "Epoch [2/50], Loss: 0.1761\n",
            "Epoch [3/50], Loss: 0.1510\n",
            "Epoch [4/50], Loss: 0.1475\n",
            "Epoch [5/50], Loss: 0.1356\n",
            "Epoch [6/50], Loss: 0.1357\n",
            "Epoch [7/50], Loss: 0.1274\n",
            "Epoch [8/50], Loss: 0.1330\n",
            "Epoch [9/50], Loss: 0.1291\n",
            "Epoch [10/50], Loss: 0.1223\n",
            "Epoch [11/50], Loss: 0.1221\n",
            "Epoch [12/50], Loss: 0.1187\n",
            "Epoch [13/50], Loss: 0.1264\n",
            "Epoch [14/50], Loss: 0.1212\n",
            "Epoch [15/50], Loss: 0.1227\n",
            "Epoch [16/50], Loss: 0.1185\n",
            "Epoch [17/50], Loss: 0.1157\n",
            "Epoch [18/50], Loss: 0.1284\n",
            "Epoch [19/50], Loss: 0.1209\n",
            "Epoch [20/50], Loss: 0.1143\n",
            "Epoch [21/50], Loss: 0.1169\n",
            "Epoch [22/50], Loss: 0.1255\n",
            "Epoch [23/50], Loss: 0.1162\n",
            "Epoch [24/50], Loss: 0.1160\n",
            "Epoch [25/50], Loss: 0.1212\n",
            "Epoch [26/50], Loss: 0.1205\n",
            "Epoch [27/50], Loss: 0.1260\n",
            "Epoch [28/50], Loss: 0.1228\n",
            "Epoch [29/50], Loss: 0.1134\n",
            "Epoch [30/50], Loss: 0.1230\n",
            "Epoch [31/50], Loss: 0.1192\n",
            "Epoch [32/50], Loss: 0.1209\n",
            "Epoch [33/50], Loss: 0.1138\n",
            "Epoch [34/50], Loss: 0.1178\n",
            "Epoch [35/50], Loss: 0.1116\n",
            "Epoch [36/50], Loss: 0.1195\n",
            "Epoch [37/50], Loss: 0.1137\n",
            "Epoch [38/50], Loss: 0.1259\n",
            "Epoch [39/50], Loss: 0.1174\n",
            "Epoch [40/50], Loss: 0.1152\n",
            "Epoch [41/50], Loss: 0.1172\n",
            "Epoch [42/50], Loss: 0.1259\n",
            "Epoch [43/50], Loss: 0.1189\n",
            "Epoch [44/50], Loss: 0.1215\n",
            "Epoch [45/50], Loss: 0.1185\n",
            "Epoch [46/50], Loss: 0.1179\n",
            "Epoch [47/50], Loss: 0.1091\n",
            "Epoch [48/50], Loss: 0.1147\n",
            "Epoch [49/50], Loss: 0.1067\n",
            "Epoch [50/50], Loss: 0.1186\n"
          ]
        }
      ]
    },
    {
      "cell_type": "markdown",
      "source": [
        "`for data in train_loader`:\n",
        "\n",
        "This loop iterates over the training dataset in batches.\n",
        "train_loader is the data loader that loads the data in batches (defined earlier with a batch size of 256).\n",
        "\n",
        "`img, _ = data:`\n",
        "\n",
        "This line extracts the images from the batch.\n",
        "_ is used to ignore the labels, **as we only need the images for the autoencoder.**\n",
        "\n",
        "`img.view(img.size(0), -1)` reshapes img to have the same batch size, but flattens all other dimensions into a single dimension. For example, if img originally has the shape [batch_size, 1, 28, 28] (which is common for MNIST images, where each image is 28x28 pixels and the 1 indicates a single color channel), this line will reshape it to [batch_size, 784], where 784 is the result of multiplying 28x28. This flattening is often done before feeding the images into a fully connected layer of a neural network."
      ],
      "metadata": {
        "id": "bWx0X4fOsgJ1"
      }
    },
    {
      "cell_type": "code",
      "source": [
        "# Use the trained model to encode and decode test digits\n",
        "with torch.no_grad():\n",
        "    for data in test_loader:\n",
        "        img, _ = data\n",
        "        img = img.view(img.size(0), -1)\n",
        "        encoded_imgs = model.encoder(img)\n",
        "        decoded_imgs = model.decoder(encoded_imgs)\n",
        "        break\n",
        "\n",
        "# Convert torch tensors to numpy arrays for visualization\n",
        "decoded_imgs_np = decoded_imgs.view(-1, 1, 28, 28).cpu().numpy()\n",
        "\n",
        "# Display original and reconstructed digits\n",
        "import matplotlib.pyplot as plt\n",
        "\n",
        "n = 10  # How many digits to display\n",
        "plt.figure(figsize=(20, 4))\n",
        "for i in range(n):\n",
        "    # Display original\n",
        "    ax = plt.subplot(2, n, i + 1)\n",
        "    plt.imshow(img[i].view(28, 28).cpu().numpy(), cmap='gray')\n",
        "    ax.get_xaxis().set_visible(False)\n",
        "    ax.get_yaxis().set_visible(False)\n",
        "\n",
        "    # Display reconstruction\n",
        "    ax = plt.subplot(2, n, i + 1 + n)\n",
        "    plt.imshow(decoded_imgs_np[i].reshape(28, 28), cmap='gray')\n",
        "    ax.get_xaxis().set_visible(False)\n",
        "    ax.get_yaxis().set_visible(False)\n",
        "plt.show()\n"
      ],
      "metadata": {
        "colab": {
          "base_uri": "https://localhost:8080/",
          "height": 219
        },
        "id": "eWFwICCxffzR",
        "outputId": "bbe5157b-14b3-4b82-b82f-668ea076ab2f"
      },
      "execution_count": null,
      "outputs": [
        {
          "output_type": "display_data",
          "data": {
            "text/plain": [
              "<Figure size 2000x400 with 20 Axes>"
            ],
            "image/png": "[encoded data removed]"
          },
          "metadata": {}
        }
      ]
    },
    {
      "cell_type": "markdown",
      "source": [
        "## Sparse Autoencoder"
      ],
      "metadata": {
        "id": "ONj_jNoGiTDF"
      }
    },
    {
      "cell_type": "markdown",
      "source": [
        "You're keeping everything the same, but you're adding a Sparsity constraint to your model"
      ],
      "metadata": {
        "id": "8B8RDiWnvDNv"
      }
    },
    {
      "cell_type": "code",
      "source": [
        "# Define the Autoencoder model with sparsity\n",
        "class SparseAutoencoder(nn.Module):\n",
        "    def __init__(self, encoding_dim):\n",
        "        super(SparseAutoencoder, self).__init__()\n",
        "        self.encoder = nn.Sequential(\n",
        "            nn.Linear(784, encoding_dim),\n",
        "            nn.ReLU()\n",
        "        )\n",
        "        self.decoder = nn.Sequential(\n",
        "            nn.Linear(encoding_dim, 784),\n",
        "            nn.Sigmoid()\n",
        "        )\n",
        "\n",
        "    def forward(self, x):\n",
        "        encoded = self.encoder(x)\n",
        "        decoded = self.decoder(encoded)\n",
        "        return decoded, encoded"
      ],
      "metadata": {
        "id": "bk-_XtnzjAWf"
      },
      "execution_count": null,
      "outputs": []
    },
    {
      "cell_type": "code",
      "source": [
        "# Hyperparameters\n",
        "encoding_dim = 32\n",
        "batch_size = 256\n",
        "num_epochs = 50\n",
        "learning_rate = 0.001\n",
        "sparsity_lambda = 0.001  # Weight of the sparsity penalty term\n",
        "rho = 0.05  # Desired average activation of the hidden units\n",
        "epsilon = 1e-10"
      ],
      "metadata": {
        "id": "RDz2xsXmi-ga"
      },
      "execution_count": null,
      "outputs": []
    },
    {
      "cell_type": "markdown",
      "source": [
        "\n",
        "**Sparsity Lambda (sparsity_lambda)(λ)**:\n",
        "Setting the importance of sparsity.\n",
        "   - If you set it higher, you're saying sparsity is more important.\n",
        "   - If you set it lower, you're saying sparsity is less important.\n",
        "\n",
        "**Desired Average Activation (rho) $$\\rho\\ $$**:\n",
        "   - Imagine each hidden unit in your neural network wants to be active some of the time but not all the time.**This 'rho' tells us how active we want each hidden unit to be on average.**\n",
        "   - For example, if rho is 0.05, we want each hidden unit to be active about 5% of the time.\n",
        "\n",
        "**Small Constant (epsilon) (ε)**:\n",
        "🤔 Why do you think we need this?\n",
        "\n"
      ],
      "metadata": {
        "id": "PdR0q95IvJHF"
      }
    },
    {
      "cell_type": "code",
      "source": [
        "# Load MNIST dataset\n",
        "transform = transforms.Compose([transforms.ToTensor()])\n",
        "train_dataset = datasets.MNIST(root='./data', train=True, transform=transform, download=True)\n",
        "test_dataset = datasets.MNIST(root='./data', train=False, transform=transform, download=True)\n",
        "\n",
        "train_loader = torch.utils.data.DataLoader(dataset=train_dataset, batch_size=batch_size, shuffle=True)\n",
        "test_loader = torch.utils.data.DataLoader(dataset=test_dataset, batch_size=batch_size, shuffle=False)"
      ],
      "metadata": {
        "id": "z4trILVRjC6V"
      },
      "execution_count": null,
      "outputs": []
    },
    {
      "cell_type": "code",
      "source": [
        "# Model, Loss and Optimizer\n",
        "model = Autoencoder(encoding_dim)\n",
        "criterion = nn.BCELoss()\n",
        "optimizer = optim.Adam(model.parameters(), lr=learning_rate)"
      ],
      "metadata": {
        "id": "z0IPGsc9jE7R"
      },
      "execution_count": null,
      "outputs": []
    },
    {
      "cell_type": "markdown",
      "source": [
        "Remember when you learned about **Sparse Autoencoders** with the **KL Divergence?** Now you need to implement it! 🥲\n",
        "\n",
        "Create a function for it here:\n"
      ],
      "metadata": {
        "id": "ZYPIF5JQv3hO"
      }
    },
    {
      "cell_type": "markdown",
      "source": [
        "$$\n",
        "KL(\\rho \\parallel \\hat{\\rho}) = \\sum_{j=1}^{n} \\left( \\rho \\log \\frac{\\rho}{\\hat{\\rho}_j} + (1 - \\rho) \\log \\frac{1 - \\rho}{1 - \\hat{\\rho}_j} \\right)\n",
        "$$\n",
        "\n"
      ],
      "metadata": {
        "id": "eyYKSFnU4fDv"
      }
    },
    {
      "cell_type": "markdown",
      "source": [
        "\n",
        "Rho: Desired average activation of the hidden units (target sparsity).\n",
        "\n",
        "Rho Hat: Actual average activation of the hidden units over the training samples.\n",
        "\n",
        "Epsilon: Small constant to avoid numerical issues."
      ],
      "metadata": {
        "id": "61bQsKkh6WPc"
      }
    },
    {
      "cell_type": "markdown",
      "source": [
        "Hints:\n",
        "\n",
        "torch.mean\n",
        "\n",
        "torch.clamp(input, min, max, out=None)\n",
        "A PyTorch function that clamps (limits) the values of a tensor to be within a specified range."
      ],
      "metadata": {
        "id": "DeAo06xBzP86"
      }
    },
    {
      "cell_type": "code",
      "source": [
        "# Function to compute the KL divergence\n",
        "def kl_divergence(rho, rho_hat):\n",
        "    rho_hat = torch.mean(rho_hat, dim=0)\n",
        "    rho_hat = torch.clamp(rho_hat, epsilon, 1 - epsilon)  # Prevent log(0) or division by zero\n",
        "    return torch.sum(rho * torch.log(rho / rho_hat) + (1 - rho) * torch.log((1 - rho) / (1 - rho_hat)))"
      ],
      "metadata": {
        "id": "3OH5Q2rYjHOe"
      },
      "execution_count": null,
      "outputs": []
    },
    {
      "cell_type": "code",
      "source": [
        "# Training the model\n",
        "for epoch in range(num_epochs):\n",
        "    for data in train_loader:\n",
        "        img, _ = data\n",
        "        img = img.view(img.size(0), -1)\n",
        "\n",
        "        # Forward pass\n",
        "        output, encoded = model(img)\n",
        "        loss = criterion(output, img)\n",
        "\n",
        "        # Compute sparsity penalty\n",
        "        sparsity_loss = sparsity_lambda * kl_divergence(rho, encoded)\n",
        "\n",
        "        # Total loss\n",
        "        total_loss = loss + sparsity_loss\n",
        "\n",
        "        # Backward pass\n",
        "        optimizer.zero_grad()\n",
        "        total_loss.backward()\n",
        "        optimizer.step()\n",
        "\n",
        "    print(f'Epoch [{epoch+1}/{num_epochs}], Loss: {total_loss.item():.4f}')"
      ],
      "metadata": {
        "colab": {
          "base_uri": "https://localhost:8080/"
        },
        "id": "6bENOEYljJuG",
        "outputId": "33c861a7-73f9-446c-9e05-e71f7760e8ba"
      },
      "execution_count": null,
      "outputs": [
        {
          "output_type": "stream",
          "name": "stdout",
          "text": [
            "Epoch [1/50], Loss: 0.1755\n",
            "Epoch [2/50], Loss: 0.1661\n",
            "Epoch [3/50], Loss: 0.1572\n",
            "Epoch [4/50], Loss: 0.1561\n",
            "Epoch [5/50], Loss: 0.1475\n",
            "Epoch [6/50], Loss: 0.1428\n",
            "Epoch [7/50], Loss: 0.1409\n",
            "Epoch [8/50], Loss: 0.1359\n",
            "Epoch [9/50], Loss: 0.1268\n",
            "Epoch [10/50], Loss: 0.1285\n",
            "Epoch [11/50], Loss: 0.1326\n",
            "Epoch [12/50], Loss: 0.1226\n",
            "Epoch [13/50], Loss: 0.1267\n",
            "Epoch [14/50], Loss: 0.1237\n",
            "Epoch [15/50], Loss: 0.1233\n",
            "Epoch [16/50], Loss: 0.1226\n",
            "Epoch [17/50], Loss: 0.1215\n",
            "Epoch [18/50], Loss: 0.1168\n",
            "Epoch [19/50], Loss: 0.1162\n",
            "Epoch [20/50], Loss: 0.1189\n",
            "Epoch [21/50], Loss: 0.1213\n",
            "Epoch [22/50], Loss: 0.1173\n",
            "Epoch [23/50], Loss: 0.1182\n",
            "Epoch [24/50], Loss: 0.1148\n",
            "Epoch [25/50], Loss: 0.1132\n",
            "Epoch [26/50], Loss: 0.1129\n",
            "Epoch [27/50], Loss: 0.1123\n",
            "Epoch [28/50], Loss: 0.1126\n",
            "Epoch [29/50], Loss: 0.1157\n",
            "Epoch [30/50], Loss: 0.1151\n",
            "Epoch [31/50], Loss: 0.1122\n",
            "Epoch [32/50], Loss: 0.1099\n",
            "Epoch [33/50], Loss: 0.1124\n",
            "Epoch [34/50], Loss: 0.1047\n",
            "Epoch [35/50], Loss: 0.1111\n",
            "Epoch [36/50], Loss: 0.1047\n",
            "Epoch [37/50], Loss: 0.1087\n",
            "Epoch [38/50], Loss: 0.1110\n",
            "Epoch [39/50], Loss: 0.1085\n",
            "Epoch [40/50], Loss: 0.1078\n",
            "Epoch [41/50], Loss: 0.1099\n",
            "Epoch [42/50], Loss: 0.1011\n",
            "Epoch [43/50], Loss: 0.1070\n",
            "Epoch [44/50], Loss: 0.1011\n",
            "Epoch [45/50], Loss: 0.1050\n",
            "Epoch [46/50], Loss: 0.1117\n",
            "Epoch [47/50], Loss: 0.1065\n",
            "Epoch [48/50], Loss: 0.1055\n",
            "Epoch [49/50], Loss: 0.1057\n",
            "Epoch [50/50], Loss: 0.1082\n"
          ]
        }
      ]
    },
    {
      "cell_type": "code",
      "source": [
        "# Use the trained model to encode and decode test digits\n",
        "with torch.no_grad():\n",
        "    for data in test_loader:\n",
        "        img, _ = data\n",
        "        img = img.view(img.size(0), -1)\n",
        "        encoded_imgs = model.encoder(img)\n",
        "        decoded_imgs = model.decoder(encoded_imgs)\n",
        "        break\n",
        "\n",
        "# Convert torch tensors to numpy arrays for visualization\n",
        "decoded_imgs_np = decoded_imgs.view(-1, 1, 28, 28).cpu().numpy()\n",
        "\n",
        "# Display original and reconstructed digits\n",
        "import matplotlib.pyplot as plt\n",
        "\n",
        "n = 10  # How many digits to display\n",
        "plt.figure(figsize=(20, 4))\n",
        "for i in range(n):\n",
        "    # Display original\n",
        "    ax = plt.subplot(2, n, i + 1)\n",
        "    plt.imshow(img[i].view(28, 28).cpu().numpy(), cmap='gray')\n",
        "    ax.get_xaxis().set_visible(False)\n",
        "    ax.get_yaxis().set_visible(False)\n",
        "\n",
        "    # Display reconstruction\n",
        "    ax = plt.subplot(2, n, i + 1 + n)\n",
        "    plt.imshow(decoded_imgs_np[i].reshape(28, 28), cmap='gray')\n",
        "    ax.get_xaxis().set_visible(False)\n",
        "    ax.get_yaxis().set_visible(False)\n",
        "plt.show()\n",
        "\n"
      ],
      "metadata": {
        "colab": {
          "base_uri": "https://localhost:8080/",
          "height": 219
        },
        "id": "hRX3T07siWEO",
        "outputId": "8bd298d1-a5b5-448d-d5b9-f824b05c5f0e"
      },
      "execution_count": null,
      "outputs": [
        {
          "output_type": "display_data",
          "data": {
            "text/plain": [
              "<Figure size 2000x400 with 20 Axes>"
            ],
            "image/png": "[encoded data removed]"
          },
          "metadata": {}
        }
      ]
    },
    {
      "cell_type": "markdown",
      "source": [
        "## Conclusion 🤸"
      ],
      "metadata": {
        "id": "NvtEWYl2zaVj"
      }
    },
    {
      "cell_type": "markdown",
      "source": [
        "## What's Next?"
      ],
      "metadata": {
        "id": "mE7uTuuFcXI-"
      }
    },
    {
      "cell_type": "markdown",
      "source": [
        "To improve the model, you can experiment with the hyperparameters that you used earlier, like the encoding dimension, batch size, number of epochs, and learning rate.\n",
        "\n",
        "Additionally, when you're working with images, it's often beneficial to use Convolutional layers instead of just fully connected (dense) layers. Convolutional layers, or Conv2d layers in PyTorch, are designed to handle the spatial structure of images better.\n",
        "\n",
        "By adding convolutional layers to your autoencoder, you can capture important features in the images more effectively. This typically leads to better performance, especially for tasks involving image data.\n",
        "\n",
        "Here's a quick outline of what you can do:\n",
        "\n",
        "- Add Conv2d layers in the encoder part of the autoencoder to capture spatial features from the input images.\n",
        "\n",
        "- Use ConvTranspose2d layers in the decoder part to reconstruct the images from the encoded features.\n",
        "\n",
        "Check out [PyTorch's Docs](https://pytorch.org/docs/stable/generated/torch.nn.Conv2d.html) that explain how to use convolutional layers."
      ],
      "metadata": {
        "id": "SE5alo3tx9jj"
      }
    },
    {
      "cell_type": "markdown",
      "source": [
        "Now you know what an autoencoder is and how to build one. In the next lesson, you'll learn how to build a Variational Autoencoder (VAE). A VAE is a more advanced type of autoencoder that not only learns to compress and reconstruct data but can also generate new data points. It relies on the same concepts you learned today but adds some extra features to make it even more powerful."
      ],
      "metadata": {
        "id": "OVo2_fS8yeHJ"
      }
    },
    {
      "cell_type": "markdown",
      "source": [
        "In the next event, you'll train a VAE on a dataset of handwritten digits MNIST(Just like today). After training, you will sample points from the latent space to generate new, unique handwritten digits that look similar to those in the dataset, even though they were never seen during training."
      ],
      "metadata": {
        "id": "jgJXgiX_kjaz"
      }
    },
    {
      "cell_type": "markdown",
      "source": [
        "### Enhance Your CV\n",
        "\n",
        "Project Idea: Use a Sparse Convolutional Autoencoder to Denoise an Image Dataset\n",
        "\n",
        "Suggested Dataset: [CIFAR-10 dataset](https://pytorch.org/vision/stable/generated/torchvision.datasets.CIFAR10.html) -- consists of 60,000 32x32 color images in 10 different classes (airplanes, cars, birds, cats, deer, dogs, frogs, horses, ships, and trucks)."
      ],
      "metadata": {
        "id": "vBJH9Ewakgo8"
      }
    },
    {
      "cell_type": "markdown",
      "source": [
        "## Resources"
      ],
      "metadata": {
        "id": "148ElW3pyvuc"
      }
    },
    {
      "cell_type": "markdown",
      "source": [
        "[PyTorch DataLoaders](https://pytorch.org/tutorials/beginner/basics/data_tutorial.html)\n",
        "\n",
        "\n",
        "[TensorFlow: Introduction to Autoencoders](https://www.tensorflow.org/tutorials/generative/autoencoder)\n",
        "\n",
        "[IBM: What are Autoencoders? (Video)](https://www.youtube.com/watch?v=qiUEgSCyY5o)\n",
        "\n",
        "[Codecademy: Intro to PyTorch and Neural Networks](https://www.codecademy.com/learn/intro-to-py-torch-and-neural-networks)\n",
        "\n",
        "[Codecademy: PyTorch For Classification](https://www.codecademy.com/enrolled/courses/py-torch-for-classification)\n",
        "\n",
        "[Codecademy: Fundamental Math for Data Science](https://www.codecademy.com/enrolled/paths/fundamental-math-for-data-science)\n",
        "\n",
        "[Codecademy: Introduction To HuggingFace](https://www.codecademy.com/article/getting-started-with-hugging-face)\n",
        "\n",
        "[Real Python: PyTorch Vs TensorFlow](https://realpython.com/pytorch-vs-tensorflow/)\n",
        "\n"
      ],
      "metadata": {
        "id": "MQSREd6Lyx7B"
      }
    }
  ]
}